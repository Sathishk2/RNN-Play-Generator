{
  "nbformat": 4,
  "nbformat_minor": 0,
  "metadata": {
    "colab": {
      "provenance": [],
      "gpuType": "T4",
      "authorship_tag": "ABX9TyOiizzJAyfRafe9w/1cTprp",
      "include_colab_link": true
    },
    "kernelspec": {
      "name": "python3",
      "display_name": "Python 3"
    },
    "language_info": {
      "name": "python"
    },
    "accelerator": "GPU"
  },
  "cells": [
    {
      "cell_type": "markdown",
      "metadata": {
        "id": "view-in-github",
        "colab_type": "text"
      },
      "source": [
        "<a href=\"https://colab.research.google.com/github/Sathishk2/RNN-Play-Generator/blob/main/RNN_Play_Generator.ipynb\" target=\"_parent\"><img src=\"https://colab.research.google.com/assets/colab-badge.svg\" alt=\"Open In Colab\"/></a>"
      ]
    },
    {
      "cell_type": "code",
      "execution_count": 1,
      "metadata": {
        "colab": {
          "base_uri": "https://localhost:8080/"
        },
        "id": "F0vtWapxCU1E",
        "outputId": "a6a0b57a-6c74-450e-85c8-bc3f23965686"
      },
      "outputs": [
        {
          "output_type": "stream",
          "name": "stdout",
          "text": [
            "Colab only includes TensorFlow 2.x; %tensorflow_version has no effect.\n"
          ]
        }
      ],
      "source": [
        "%tensorflow_version 2.x  # this line is not required unless you are in a notebook\n",
        "from keras.preprocessing import sequence\n",
        "import keras\n",
        "import tensorflow as tf\n",
        "import os\n",
        "import numpy as np"
      ]
    },
    {
      "cell_type": "code",
      "source": [
        "path_to_file = tf.keras.utils.get_file('shakespeare.txt', 'https://storage.googleapis.com/download.tensorflow.org/data/shakespeare.txt')"
      ],
      "metadata": {
        "colab": {
          "base_uri": "https://localhost:8080/"
        },
        "id": "WdV4eEVUCvMn",
        "outputId": "59e4ed80-e216-4dc9-daae-99b840e50587"
      },
      "execution_count": 2,
      "outputs": [
        {
          "output_type": "stream",
          "name": "stdout",
          "text": [
            "Downloading data from https://storage.googleapis.com/download.tensorflow.org/data/shakespeare.txt\n",
            "1115394/1115394 [==============================] - 0s 0us/step\n"
          ]
        }
      ]
    },
    {
      "cell_type": "code",
      "source": [
        "# Read, then decode for py2 compat.\n",
        "text = open(path_to_file, 'rb').read().decode(encoding='utf-8')\n",
        "# length of text is the number of characters in it\n",
        "print ('Length of text: {} characters'.format(len(text)))"
      ],
      "metadata": {
        "colab": {
          "base_uri": "https://localhost:8080/"
        },
        "id": "HOfeCGE1DCIS",
        "outputId": "0d6c8a3d-e9ae-47fa-d26d-c7d9cfddeab3"
      },
      "execution_count": 3,
      "outputs": [
        {
          "output_type": "stream",
          "name": "stdout",
          "text": [
            "Length of text: 1115394 characters\n"
          ]
        }
      ]
    },
    {
      "cell_type": "code",
      "source": [
        "# Take a look at the first 250 characters in text\n",
        "print(text[:250])"
      ],
      "metadata": {
        "colab": {
          "base_uri": "https://localhost:8080/"
        },
        "id": "OERvvL-NDO5E",
        "outputId": "fec55bfb-0adf-49cf-a2b9-397790af5669"
      },
      "execution_count": 4,
      "outputs": [
        {
          "output_type": "stream",
          "name": "stdout",
          "text": [
            "First Citizen:\n",
            "Before we proceed any further, hear me speak.\n",
            "\n",
            "All:\n",
            "Speak, speak.\n",
            "\n",
            "First Citizen:\n",
            "You are all resolved rather to die than to famish?\n",
            "\n",
            "All:\n",
            "Resolved. resolved.\n",
            "\n",
            "First Citizen:\n",
            "First, you know Caius Marcius is chief enemy to the people.\n",
            "\n"
          ]
        }
      ]
    },
    {
      "cell_type": "code",
      "source": [
        "vocab = sorted(set(text))\n",
        "# Creating a mapping from unique characters to indices\n",
        "char2idx = {u:i for i, u in enumerate(vocab)}\n",
        "idx2char = np.array(vocab)\n",
        "\n",
        "def text_to_int(text):\n",
        "  return np.array([char2idx[c] for c in text])\n",
        "\n",
        "text_as_int = text_to_int(text)"
      ],
      "metadata": {
        "id": "1To0tN0JF8zL"
      },
      "execution_count": 5,
      "outputs": []
    },
    {
      "cell_type": "code",
      "source": [
        "# lets look at how part of our text is encoded\n",
        "print(\"Text:\", text[:13])\n",
        "print(\"Encoded:\", text_to_int(text[:13]))"
      ],
      "metadata": {
        "colab": {
          "base_uri": "https://localhost:8080/"
        },
        "id": "Mnm93mQiGBuV",
        "outputId": "219416e5-980f-4dc4-9409-63eb804b1157"
      },
      "execution_count": 6,
      "outputs": [
        {
          "output_type": "stream",
          "name": "stdout",
          "text": [
            "Text: First Citizen\n",
            "Encoded: [18 47 56 57 58  1 15 47 58 47 64 43 52]\n"
          ]
        }
      ]
    },
    {
      "cell_type": "code",
      "source": [
        "def int_to_text(ints):\n",
        "  try:\n",
        "    ints = ints.numpy()\n",
        "  except:\n",
        "    pass\n",
        "  return ''.join(idx2char[ints])\n",
        "\n",
        "print(int_to_text(text_as_int[:13]))"
      ],
      "metadata": {
        "colab": {
          "base_uri": "https://localhost:8080/"
        },
        "id": "D7ty2qiAGEZr",
        "outputId": "3ac12779-7fdf-4216-c516-3ac463b8985e"
      },
      "execution_count": 7,
      "outputs": [
        {
          "output_type": "stream",
          "name": "stdout",
          "text": [
            "First Citizen\n"
          ]
        }
      ]
    },
    {
      "cell_type": "code",
      "source": [
        "seq_length = 100  # length of sequence for a training example\n",
        "examples_per_epoch = len(text)//(seq_length+1)\n",
        "\n",
        "# Create training examples / targets\n",
        "char_dataset = tf.data.Dataset.from_tensor_slices(text_as_int)"
      ],
      "metadata": {
        "id": "RMdjfhbiG-bD"
      },
      "execution_count": 8,
      "outputs": []
    },
    {
      "cell_type": "code",
      "source": [
        "sequences = char_dataset.batch(seq_length+1, drop_remainder=True)"
      ],
      "metadata": {
        "id": "yat3p5GFHLE1"
      },
      "execution_count": 9,
      "outputs": []
    },
    {
      "cell_type": "code",
      "source": [
        "def split_input_target(chunk):  # for the example: hello\n",
        "    input_text = chunk[:-1]  # hell\n",
        "    target_text = chunk[1:]  # ello\n",
        "    return input_text, target_text  # hell, ello\n",
        "\n",
        "dataset = sequences.map(split_input_target)  # we use map to apply the above function to every entry"
      ],
      "metadata": {
        "id": "JGOlL5JWHgIi"
      },
      "execution_count": 10,
      "outputs": []
    },
    {
      "cell_type": "code",
      "source": [
        "for x, y in dataset.take(2):\n",
        "  print(\"\\n\\nEXAMPLE\\n\")\n",
        "  print(\"INPUT\")\n",
        "  print(int_to_text(x))\n",
        "  print(\"\\nOUTPUT\")\n",
        "  print(int_to_text(y))"
      ],
      "metadata": {
        "colab": {
          "base_uri": "https://localhost:8080/"
        },
        "id": "dKYH-r75Hs2-",
        "outputId": "8355b47c-1e41-4284-ab31-6d6211fd44b8"
      },
      "execution_count": 11,
      "outputs": [
        {
          "output_type": "stream",
          "name": "stdout",
          "text": [
            "\n",
            "\n",
            "EXAMPLE\n",
            "\n",
            "INPUT\n",
            "First Citizen:\n",
            "Before we proceed any further, hear me speak.\n",
            "\n",
            "All:\n",
            "Speak, speak.\n",
            "\n",
            "First Citizen:\n",
            "You\n",
            "\n",
            "OUTPUT\n",
            "irst Citizen:\n",
            "Before we proceed any further, hear me speak.\n",
            "\n",
            "All:\n",
            "Speak, speak.\n",
            "\n",
            "First Citizen:\n",
            "You \n",
            "\n",
            "\n",
            "EXAMPLE\n",
            "\n",
            "INPUT\n",
            "are all resolved rather to die than to famish?\n",
            "\n",
            "All:\n",
            "Resolved. resolved.\n",
            "\n",
            "First Citizen:\n",
            "First, you \n",
            "\n",
            "OUTPUT\n",
            "re all resolved rather to die than to famish?\n",
            "\n",
            "All:\n",
            "Resolved. resolved.\n",
            "\n",
            "First Citizen:\n",
            "First, you k\n"
          ]
        }
      ]
    },
    {
      "cell_type": "code",
      "source": [
        "BATCH_SIZE = 64\n",
        "VOCAB_SIZE = len(vocab)  # vocab is number of unique characters\n",
        "EMBEDDING_DIM = 256\n",
        "RNN_UNITS = 1024\n",
        "\n",
        "# Buffer size to shuffle the dataset\n",
        "# (TF data is designed to work with possibly infinite sequences,\n",
        "# so it doesn't attempt to shuffle the entire sequence in memory. Instead,\n",
        "# it maintains a buffer in which it shuffles elements).\n",
        "BUFFER_SIZE = 10000\n",
        "\n",
        "data = dataset.shuffle(BUFFER_SIZE).batch(BATCH_SIZE, drop_remainder=True)"
      ],
      "metadata": {
        "id": "xYppUDe9Hufb"
      },
      "execution_count": 12,
      "outputs": []
    },
    {
      "cell_type": "code",
      "source": [
        "def build_model(vocab_size, embedding_dim, rnn_units, batch_size):\n",
        "  model = tf.keras.Sequential([\n",
        "    tf.keras.layers.Embedding(vocab_size, embedding_dim,\n",
        "                              batch_input_shape=[batch_size, None]),\n",
        "    tf.keras.layers.LSTM(rnn_units,\n",
        "                        return_sequences=True,\n",
        "                        stateful=True,\n",
        "                        recurrent_initializer='glorot_uniform'),\n",
        "    tf.keras.layers.Dense(vocab_size)\n",
        "  ])\n",
        "  return model\n",
        "\n",
        "model = build_model(VOCAB_SIZE,EMBEDDING_DIM, RNN_UNITS, BATCH_SIZE)\n",
        "model.summary()"
      ],
      "metadata": {
        "colab": {
          "base_uri": "https://localhost:8080/"
        },
        "id": "0Fbi6TrmJ_JK",
        "outputId": "5530ba37-9528-4a11-8585-2ed1acb418b5"
      },
      "execution_count": 13,
      "outputs": [
        {
          "output_type": "stream",
          "name": "stdout",
          "text": [
            "Model: \"sequential\"\n",
            "_________________________________________________________________\n",
            " Layer (type)                Output Shape              Param #   \n",
            "=================================================================\n",
            " embedding (Embedding)       (64, None, 256)           16640     \n",
            "                                                                 \n",
            " lstm (LSTM)                 (64, None, 1024)          5246976   \n",
            "                                                                 \n",
            " dense (Dense)               (64, None, 65)            66625     \n",
            "                                                                 \n",
            "=================================================================\n",
            "Total params: 5330241 (20.33 MB)\n",
            "Trainable params: 5330241 (20.33 MB)\n",
            "Non-trainable params: 0 (0.00 Byte)\n",
            "_________________________________________________________________\n"
          ]
        }
      ]
    },
    {
      "cell_type": "code",
      "source": [
        "for input_example_batch, target_example_batch in data.take(1):\n",
        "  example_batch_predictions = model(input_example_batch)  # ask our model for a prediction on our first batch of training data (64 entries)\n",
        "  print(example_batch_predictions.shape, \"# (batch_size, sequence_length, vocab_size)\")  # print out the output shape"
      ],
      "metadata": {
        "colab": {
          "base_uri": "https://localhost:8080/"
        },
        "id": "gzNuQcicKrSx",
        "outputId": "d276ccf1-a9f4-4134-8ddd-a0f5ef5bd98f"
      },
      "execution_count": 14,
      "outputs": [
        {
          "output_type": "stream",
          "name": "stdout",
          "text": [
            "(64, 100, 65) # (batch_size, sequence_length, vocab_size)\n"
          ]
        }
      ]
    },
    {
      "cell_type": "code",
      "source": [
        "# we can see that the predicition is an array of 64 arrays, one for each entry in the batch\n",
        "print(len(example_batch_predictions))\n",
        "print(example_batch_predictions)"
      ],
      "metadata": {
        "colab": {
          "base_uri": "https://localhost:8080/"
        },
        "id": "grFUzYRsLHkU",
        "outputId": "acdf922a-7483-48c3-c3bd-6fa6c4b7f4fb"
      },
      "execution_count": 15,
      "outputs": [
        {
          "output_type": "stream",
          "name": "stdout",
          "text": [
            "64\n",
            "tf.Tensor(\n",
            "[[[-1.92385027e-03  6.24568621e-03 -3.28037445e-03 ...  1.76561484e-03\n",
            "    2.55341758e-03  1.97769003e-03]\n",
            "  [-5.17717609e-03 -2.12515984e-03 -4.64547891e-04 ... -2.07733829e-04\n",
            "    4.85584885e-03  4.46775137e-03]\n",
            "  [-2.31112749e-03 -3.66190588e-03  3.65154841e-03 ... -1.17615971e-03\n",
            "    2.62267981e-03  5.64439315e-03]\n",
            "  ...\n",
            "  [ 7.63833988e-03 -8.98630917e-03 -3.23810452e-03 ... -4.27521439e-03\n",
            "    5.92180435e-03 -8.63503478e-03]\n",
            "  [ 5.78120723e-03 -8.23733583e-03  9.22443112e-04 ... -5.80592221e-03\n",
            "    1.18069928e-02 -5.77696180e-03]\n",
            "  [ 8.98790732e-03 -8.70985910e-03  1.85095472e-04 ... -9.99702793e-03\n",
            "    1.30218305e-02 -3.78036778e-03]]\n",
            "\n",
            " [[-7.74423871e-03  4.81611397e-03  8.95929988e-04 ...  2.25606491e-03\n",
            "   -1.50528853e-04  7.55107217e-03]\n",
            "  [-1.36672230e-02  7.41811655e-03  1.43003755e-03 ...  4.34147473e-03\n",
            "    4.61814925e-05  1.31864389e-02]\n",
            "  [-9.35543608e-03  4.69801528e-03 -1.26730301e-03 ...  9.42492019e-03\n",
            "    4.25842265e-03  1.32760275e-02]\n",
            "  ...\n",
            "  [-7.13887531e-03 -6.29686238e-03  1.14565548e-02 ...  3.24751181e-03\n",
            "   -3.00082029e-03 -2.49922764e-03]\n",
            "  [-2.82125734e-03 -1.33711677e-02  1.10939415e-02 ... -4.31026984e-03\n",
            "   -4.63805068e-03 -8.38962558e-04]\n",
            "  [-2.09154421e-03 -1.13826375e-02  9.83253308e-03 ...  3.18044377e-03\n",
            "   -1.40018458e-03 -2.72637140e-03]]\n",
            "\n",
            " [[ 2.26202537e-04 -2.43646372e-03 -2.80234823e-03 ... -5.49826073e-04\n",
            "   -1.47046440e-03 -5.06859226e-03]\n",
            "  [ 1.70855853e-03 -6.60758233e-04  8.65358219e-04 ...  6.73784409e-03\n",
            "    3.97296669e-03 -6.02430943e-03]\n",
            "  [ 1.69243652e-03  3.21053900e-04  2.84678419e-03 ...  1.23932436e-02\n",
            "    7.72733660e-03 -6.49451092e-03]\n",
            "  ...\n",
            "  [ 3.08631267e-03 -1.35773346e-02  4.42446023e-03 ... -3.12582636e-03\n",
            "    8.03465582e-03  2.71473196e-03]\n",
            "  [ 8.26634932e-03 -1.34282550e-02  8.11391510e-05 ... -3.40929301e-03\n",
            "    8.52253661e-03 -6.61404338e-05]\n",
            "  [ 4.33319667e-03 -1.62477158e-02 -2.37076078e-03 ... -4.87079797e-03\n",
            "    3.93468561e-03 -3.74378031e-03]]\n",
            "\n",
            " ...\n",
            "\n",
            " [[ 2.83810496e-03  8.99925013e-04 -1.33019013e-04 ... -1.87535828e-04\n",
            "   -1.37564866e-03 -5.27200056e-03]\n",
            "  [ 5.66853210e-04  2.34299828e-03 -3.02981236e-04 ...  2.91480520e-03\n",
            "    1.66063919e-03 -1.98676996e-03]\n",
            "  [ 1.00392778e-03 -3.20950430e-03  1.97846815e-03 ...  2.44977744e-03\n",
            "    9.08641238e-03  1.35100982e-03]\n",
            "  ...\n",
            "  [-3.92027572e-03 -1.39452275e-02  4.18577995e-03 ... -7.84937944e-03\n",
            "    6.53715339e-03  1.95368589e-03]\n",
            "  [ 1.99987879e-03 -1.84575487e-02  6.77115191e-03 ... -1.37461657e-02\n",
            "    3.23146023e-03  1.73336244e-03]\n",
            "  [ 2.51141610e-03 -1.67283341e-02  6.80176122e-03 ... -7.96982553e-03\n",
            "    1.32142939e-03 -1.46875693e-03]]\n",
            "\n",
            " [[ 4.63244598e-03 -6.84367400e-03  2.64100195e-03 ... -6.20934227e-03\n",
            "   -1.04857073e-03  1.53845502e-03]\n",
            "  [ 4.36785910e-03 -2.81060813e-03  1.43957417e-03 ... -9.61644109e-03\n",
            "    1.06204371e-03  4.25796118e-03]\n",
            "  [ 9.05901380e-03 -3.78809264e-03 -2.50629149e-03 ... -8.15532636e-03\n",
            "    2.76098284e-03  2.05775583e-03]\n",
            "  ...\n",
            "  [ 1.15428469e-03 -9.86695103e-03 -6.38234895e-03 ... -2.13810476e-04\n",
            "   -6.62290957e-03 -9.36234090e-03]\n",
            "  [ 3.93756200e-04 -5.13461418e-03 -1.02757420e-02 ... -1.85320107e-03\n",
            "   -1.04540363e-02 -1.01378867e-02]\n",
            "  [ 5.70444483e-03 -1.12036020e-02 -5.24621084e-03 ... -8.25237483e-03\n",
            "   -9.51679796e-03 -6.38064323e-03]]\n",
            "\n",
            " [[-1.91836199e-03 -4.91334544e-03 -1.48308650e-03 ... -1.49022136e-03\n",
            "   -2.85704527e-03 -2.85652326e-03]\n",
            "  [ 3.27605940e-03 -4.00536787e-03 -2.04678834e-03 ... -4.11027437e-03\n",
            "    1.71059393e-03 -3.83526785e-05]\n",
            "  [-4.54477826e-03  1.37878547e-03  4.92666615e-03 ... -2.58346740e-03\n",
            "   -6.52917894e-04 -1.63186528e-03]\n",
            "  ...\n",
            "  [ 1.16558503e-02 -7.98787083e-03 -1.44109642e-03 ... -1.27152186e-02\n",
            "   -4.61419020e-03 -6.23067003e-03]\n",
            "  [ 7.50156632e-03 -7.98823405e-03 -5.20269480e-03 ... -3.53664625e-03\n",
            "   -4.69262898e-03 -1.13373809e-02]\n",
            "  [-2.02035473e-04 -1.24594625e-02 -2.95172748e-03 ... -8.08652397e-03\n",
            "    6.96946867e-04 -7.00559095e-03]]], shape=(64, 100, 65), dtype=float32)\n"
          ]
        }
      ]
    },
    {
      "cell_type": "code",
      "source": [
        "# lets examine one prediction\n",
        "pred = example_batch_predictions[0]\n",
        "print(len(pred))\n",
        "print(pred)\n",
        "# notice this is a 2d array of length 100, where each interior array is the prediction for the next character at each time step"
      ],
      "metadata": {
        "colab": {
          "base_uri": "https://localhost:8080/"
        },
        "id": "AFBeYjQcLJl-",
        "outputId": "c9bbb43b-2131-4c55-b581-864d8c0db6c7"
      },
      "execution_count": 16,
      "outputs": [
        {
          "output_type": "stream",
          "name": "stdout",
          "text": [
            "100\n",
            "tf.Tensor(\n",
            "[[-0.00192385  0.00624569 -0.00328037 ...  0.00176561  0.00255342\n",
            "   0.00197769]\n",
            " [-0.00517718 -0.00212516 -0.00046455 ... -0.00020773  0.00485585\n",
            "   0.00446775]\n",
            " [-0.00231113 -0.00366191  0.00365155 ... -0.00117616  0.00262268\n",
            "   0.00564439]\n",
            " ...\n",
            " [ 0.00763834 -0.00898631 -0.0032381  ... -0.00427521  0.0059218\n",
            "  -0.00863503]\n",
            " [ 0.00578121 -0.00823734  0.00092244 ... -0.00580592  0.01180699\n",
            "  -0.00577696]\n",
            " [ 0.00898791 -0.00870986  0.0001851  ... -0.00999703  0.01302183\n",
            "  -0.00378037]], shape=(100, 65), dtype=float32)\n"
          ]
        }
      ]
    },
    {
      "cell_type": "code",
      "source": [
        "# and finally well look at a prediction at the first timestep\n",
        "time_pred = pred[0]\n",
        "print(len(time_pred))\n",
        "print(time_pred)\n",
        "# and of course its 65 values representing the probabillity of each character occuring next"
      ],
      "metadata": {
        "colab": {
          "base_uri": "https://localhost:8080/"
        },
        "id": "Pq2G8WF4LowA",
        "outputId": "67301396-4de4-4efc-8d76-39389742806e"
      },
      "execution_count": 17,
      "outputs": [
        {
          "output_type": "stream",
          "name": "stdout",
          "text": [
            "65\n",
            "tf.Tensor(\n",
            "[-1.9238503e-03  6.2456862e-03 -3.2803745e-03 -6.0486640e-03\n",
            " -9.3368103e-04  8.1168953e-05 -2.7519751e-03 -4.9488340e-04\n",
            "  5.1312911e-04 -3.0820710e-03  3.0375053e-03 -1.4859792e-03\n",
            "  5.2219682e-04  9.9566616e-03 -6.3471659e-03  1.8154875e-03\n",
            " -6.5121036e-03  4.1176444e-03  9.8372495e-04 -5.2322042e-03\n",
            " -1.7319156e-03  7.1699347e-04  1.4836185e-03  2.8640945e-03\n",
            " -2.7413322e-03  1.0244120e-03  3.0530379e-03 -1.5895966e-03\n",
            " -5.2142814e-03  6.1792997e-04  3.5299871e-03 -3.9780061e-03\n",
            "  2.2832151e-03  1.4117518e-03  1.3495306e-03  2.4444663e-03\n",
            "  2.6794146e-03  3.5899952e-03  2.3670685e-03  6.1027021e-03\n",
            " -3.1687415e-03  2.6191920e-03  3.1531283e-03  1.0629308e-03\n",
            " -2.0730277e-03 -6.6480148e-03 -9.5245655e-04  9.8574031e-03\n",
            " -3.8196740e-04  6.5823421e-03  1.3063938e-04  1.7214586e-03\n",
            "  4.1658292e-03 -2.4801018e-03  1.2754328e-03  1.2953588e-03\n",
            "  4.5383545e-03  1.7325558e-03 -1.0016391e-02 -2.9886428e-03\n",
            " -2.8406043e-04  9.8101940e-05  1.7656148e-03  2.5534176e-03\n",
            "  1.9776900e-03], shape=(65,), dtype=float32)\n"
          ]
        }
      ]
    },
    {
      "cell_type": "code",
      "source": [
        "# If we want to determine the predicted character we need to sample the output distribution (pick a value based on probabillity)\n",
        "sampled_indices = tf.random.categorical(pred, num_samples=1)\n",
        "\n",
        "# now we can reshape that array and convert all the integers to numbers to see the actual characters\n",
        "sampled_indices = np.reshape(sampled_indices, (1, -1))[0]\n",
        "predicted_chars = int_to_text(sampled_indices)\n",
        "\n",
        "predicted_chars  # and this is what the model predicted for training sequence 1"
      ],
      "metadata": {
        "colab": {
          "base_uri": "https://localhost:8080/",
          "height": 35
        },
        "id": "89NUvhi2LsgY",
        "outputId": "b71bffe3-b4a2-4ec5-e136-c43ffe95b75e"
      },
      "execution_count": 18,
      "outputs": [
        {
          "output_type": "execute_result",
          "data": {
            "text/plain": [
              "'YJn3,BY:PezmV-o!UI.jblsZ&s.j3PuT$SoneW$ E$jNZtcVXtduNZbKY?viPp;&yE!zTvYwFYFMTaBMYXvExcF!MzPB!?bAEfzm'"
            ],
            "application/vnd.google.colaboratory.intrinsic+json": {
              "type": "string"
            }
          },
          "metadata": {},
          "execution_count": 18
        }
      ]
    },
    {
      "cell_type": "code",
      "source": [
        "def loss(labels, logits):\n",
        "  return tf.keras.losses.sparse_categorical_crossentropy(labels, logits, from_logits=True)"
      ],
      "metadata": {
        "id": "6XxNeF0nMYJA"
      },
      "execution_count": 19,
      "outputs": []
    },
    {
      "cell_type": "code",
      "source": [
        "model.compile(optimizer='adam', loss=loss)"
      ],
      "metadata": {
        "id": "m-4HTjqoMoLE"
      },
      "execution_count": 20,
      "outputs": []
    },
    {
      "cell_type": "code",
      "source": [
        "# Directory where the checkpoints will be saved\n",
        "checkpoint_dir = './training_checkpoints'\n",
        "# Name of the checkpoint files\n",
        "checkpoint_prefix = os.path.join(checkpoint_dir, \"ckpt_{epoch}\")\n",
        "\n",
        "checkpoint_callback=tf.keras.callbacks.ModelCheckpoint(\n",
        "    filepath=checkpoint_prefix,\n",
        "    save_weights_only=True)"
      ],
      "metadata": {
        "id": "Tn7cT5rZMsZO"
      },
      "execution_count": 21,
      "outputs": []
    },
    {
      "cell_type": "code",
      "source": [
        "history = model.fit(data, epochs=50, callbacks=[checkpoint_callback])"
      ],
      "metadata": {
        "id": "2rCh9cnoM0MA"
      },
      "execution_count": null,
      "outputs": []
    },
    {
      "cell_type": "code",
      "source": [
        "model = build_model(VOCAB_SIZE, EMBEDDING_DIM, RNN_UNITS, batch_size=1)"
      ],
      "metadata": {
        "id": "gzc-3ls_QIlr"
      },
      "execution_count": 23,
      "outputs": []
    },
    {
      "cell_type": "code",
      "source": [
        "model.load_weights(tf.train.latest_checkpoint(checkpoint_dir))\n",
        "model.build(tf.TensorShape([1, None]))"
      ],
      "metadata": {
        "id": "rsaTWrBzQLuQ"
      },
      "execution_count": 24,
      "outputs": []
    },
    {
      "cell_type": "code",
      "source": [
        "def generate_text(model, start_string):\n",
        "  # Evaluation step (generating text using the learned model)\n",
        "\n",
        "  # Number of characters to generate\n",
        "  num_generate = 800\n",
        "\n",
        "  # Converting our start string to numbers (vectorizing)\n",
        "  input_eval = [char2idx[s] for s in start_string]\n",
        "  input_eval = tf.expand_dims(input_eval, 0)\n",
        "\n",
        "  # Empty string to store our results\n",
        "  text_generated = []\n",
        "\n",
        "  # Low temperatures results in more predictable text.\n",
        "  # Higher temperatures results in more surprising text.\n",
        "  # Experiment to find the best setting.\n",
        "  temperature = 1.0\n",
        "\n",
        "  # Here batch size == 1\n",
        "  model.reset_states()\n",
        "  for i in range(num_generate):\n",
        "      predictions = model(input_eval)\n",
        "      # remove the batch dimension\n",
        "\n",
        "      predictions = tf.squeeze(predictions, 0)\n",
        "\n",
        "      # using a categorical distribution to predict the character returned by the model\n",
        "      predictions = predictions / temperature\n",
        "      predicted_id = tf.random.categorical(predictions, num_samples=1)[-1,0].numpy()\n",
        "\n",
        "      # We pass the predicted character as the next input to the model\n",
        "      # along with the previous hidden state\n",
        "      input_eval = tf.expand_dims([predicted_id], 0)\n",
        "\n",
        "      text_generated.append(idx2char[predicted_id])\n",
        "\n",
        "  return (start_string + ''.join(text_generated))"
      ],
      "metadata": {
        "id": "p2jDPs6kQdIx"
      },
      "execution_count": 27,
      "outputs": []
    },
    {
      "cell_type": "code",
      "source": [
        "inp = input(\"Type a starting string: \")\n",
        "print(generate_text(model, inp))"
      ],
      "metadata": {
        "colab": {
          "base_uri": "https://localhost:8080/"
        },
        "id": "RTp6prIoQgzK",
        "outputId": "41e735e2-c5e0-4431-ed67-5336dd9164dc"
      },
      "execution_count": 28,
      "outputs": [
        {
          "output_type": "stream",
          "name": "stdout",
          "text": [
            "Type a starting string: romeo\n",
            "romeot, save me leave,\n",
            "Since.\n",
            "\n",
            "DUKE OF AUMERLE:\n",
            "Fitzwater, thou liest. Is not this in that?\n",
            "\n",
            "BENVOLIO:\n",
            "O conscience sounds for joy\n",
            "To see you talk of a worthy cause,\n",
            "To make all coburage must not not be seen.\n",
            "Farewell, old wealous peace.\n",
            "\n",
            "HARTINGS:\n",
            "For ever I should be drunk finger, thou shouldst be crown'd?\n",
            "You Edward shall my father's honourself\n",
            "But ond, nangelife them weapon have my wailord.\n",
            "Thou know'st my daughter's masterly shall meet\n",
            "From Rome Mortession's smiles, and his supposed\n",
            "his assurance of a wish!\n",
            "\n",
            "DUKE OF AUMERLE:\n",
            "Entoness are deceived; e to my master haste.\n",
            "\n",
            "FRIAR LAURENCE:\n",
            "You say you do not know the lady's life,\n",
            "Upon his power to thy answer his grace.\n",
            "\n",
            "SICINIUS:\n",
            "Have with thee?\n",
            "\n",
            "Provost:\n",
            "None, sir; but get the incip at Barnet first;\n",
            "And then; and urgently proud out\n",
            "And marrie\n"
          ]
        }
      ]
    }
  ]
}